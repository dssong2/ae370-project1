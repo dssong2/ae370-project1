{
 "cells": [
  {
   "cell_type": "code",
   "execution_count": null,
   "id": "3fa40341",
   "metadata": {},
   "outputs": [],
   "source": [
    "import sys\n",
    "from pathlib import Path\n",
    "\n",
    "repo_root = Path.cwd().resolve().parent\n",
    "if str(repo_root) not in sys.path:\n",
    "    sys.path.insert(0, str(repo_root))\n",
    "\n",
    "from dynamics import Dynamics"
   ]
  },
  {
   "cell_type": "code",
   "execution_count": null,
   "id": "8bd23783",
   "metadata": {},
   "outputs": [],
   "source": []
  }
 ],
 "metadata": {
  "language_info": {
   "name": "python"
  }
 },
 "nbformat": 4,
 "nbformat_minor": 5
}

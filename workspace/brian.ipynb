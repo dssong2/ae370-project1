{
 "cells": [
  {
   "cell_type": "code",
   "execution_count": 1,
   "id": "3fa40341",
   "metadata": {},
   "outputs": [
    {
     "name": "stderr",
     "output_type": "stream",
     "text": [
      "ERROR:tornado.general:Uncaught exception in ZMQStream callback\n",
      "Traceback (most recent call last):\n",
      "  File \"/opt/anaconda3/envs/ae370/lib/python3.13/site-packages/traitlets/traitlets.py\", line 632, in get\n",
      "    value = obj._trait_values[self.name]\n",
      "            ~~~~~~~~~~~~~~~~~^^^^^^^^^^^\n",
      "KeyError: '_control_lock'\n",
      "\n",
      "During handling of the above exception, another exception occurred:\n",
      "\n",
      "Traceback (most recent call last):\n",
      "  File \"/opt/anaconda3/envs/ae370/lib/python3.13/site-packages/zmq/eventloop/zmqstream.py\", line 565, in _log_error\n",
      "    f.result()\n",
      "    ~~~~~~~~^^\n",
      "  File \"/opt/anaconda3/envs/ae370/lib/python3.13/site-packages/ipykernel/kernelbase.py\", line 301, in dispatch_control\n",
      "    async with self._control_lock:\n",
      "               ^^^^^^^^^^^^^^^^^^\n",
      "  File \"/opt/anaconda3/envs/ae370/lib/python3.13/site-packages/traitlets/traitlets.py\", line 687, in __get__\n",
      "    return t.cast(G, self.get(obj, cls))  # the G should encode the Optional\n",
      "                     ~~~~~~~~^^^^^^^^^^\n",
      "  File \"/opt/anaconda3/envs/ae370/lib/python3.13/site-packages/traitlets/traitlets.py\", line 649, in get\n",
      "    value = self._validate(obj, default)\n",
      "  File \"/opt/anaconda3/envs/ae370/lib/python3.13/site-packages/traitlets/traitlets.py\", line 722, in _validate\n",
      "    value = self.validate(obj, value)\n",
      "  File \"/opt/anaconda3/envs/ae370/lib/python3.13/site-packages/traitlets/traitlets.py\", line 2311, in validate\n",
      "    self.error(obj, value)\n",
      "    ~~~~~~~~~~^^^^^^^^^^^^\n",
      "  File \"/opt/anaconda3/envs/ae370/lib/python3.13/site-packages/traitlets/traitlets.py\", line 831, in error\n",
      "    raise TraitError(e)\n",
      "traitlets.traitlets.TraitError: The '_control_lock' trait of an IPythonKernel instance expected a Lock, not the NoneType None.\n"
     ]
    }
   ],
   "source": [
    "import numpy as np\n",
    "from sympy import *\n",
    "import matplotlib.pyplot as plt\n",
    "\n",
    "import sys\n",
    "from pathlib import Path\n",
    "\n",
    "# 1) Ensure the repo parent is on sys.path (..../<parent>/Maurice2)\n",
    "repo_parent = Path.cwd().resolve().parents[0]\n",
    "if str(repo_parent) not in sys.path:\n",
    "    sys.path.insert(0, str(repo_parent))\n",
    "\n",
    "# 2) (Optional) If you want to override the data dir at runtime, set this:\n",
    "# os.environ[\"MAURICE2_DATA_DIR\"] = str(Path(repo_parent, \"Maurice2\", \"data\"))\n",
    "\n",
    "# 3) Autoreload to pick up edits to Maurice2/*\n",
    "%load_ext autoreload\n",
    "%autoreload 2\n",
    "\n",
    "from dynamics import Dynamics"
   ]
  },
  {
   "cell_type": "code",
   "execution_count": null,
   "id": "8bd23783",
   "metadata": {},
   "outputs": [],
   "source": []
  }
 ],
 "metadata": {
  "kernelspec": {
   "display_name": "ae370",
   "language": "python",
   "name": "python3"
  },
  "language_info": {
   "codemirror_mode": {
    "name": "ipython",
    "version": 3
   },
   "file_extension": ".py",
   "mimetype": "text/x-python",
   "name": "python",
   "nbconvert_exporter": "python",
   "pygments_lexer": "ipython3",
   "version": "3.13.5"
  }
 },
 "nbformat": 4,
 "nbformat_minor": 5
}

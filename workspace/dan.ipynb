{
 "cells": [
  {
   "cell_type": "code",
   "execution_count": null,
   "id": "3eb36ab4",
   "metadata": {},
   "outputs": [],
   "source": [
    "import numpy as np\n",
    "from sympy import *\n",
    "import matplotlib.pyplot as plt\n",
    "\n",
    "import sys\n",
    "from pathlib import Path\n",
    "\n",
    "repo_parent = Path.cwd().resolve().parents[0]\n",
    "if str(repo_parent) not in sys.path:\n",
    "    sys.path.insert(0, str(repo_parent))\n",
    "\n",
    "# 3) Autoreload to pick up edits to Maurice2/*\n",
    "%load_ext autoreload\n",
    "%autoreload 2\n",
    "\n",
    "from main.dynamics import Dynamics"
   ]
  },
  {
   "cell_type": "code",
   "execution_count": null,
   "id": "d3987136",
   "metadata": {},
   "outputs": [],
   "source": [
    "xhat0 = np.array([0, 0, 0, 0, 0, 0, 1, 0, 0, 0]) # Initial state estimate\n",
    "sampling_rate = 50.0  # Hz\n",
    "dt = 1.0 / sampling_rate\n",
    "\n",
    "dynamics = Dynamics(dt=dt, x0=xhat0)\n",
    "dynamics.setup_eom()\n",
    "dynamics.run_rk4(xhat=xhat0)"
   ]
  },
  {
   "cell_type": "code",
   "execution_count": null,
   "id": "ffb65d29",
   "metadata": {},
   "outputs": [],
   "source": [
    "xhat = np.array(dynamics.states)\n",
    "t = np.arange(0, xhat.shape[0]*dynamics.dt, dynamics.dt)\n",
    "\n",
    "fig, axs = plt.subplots(3, 1, figsize=(10, 8), sharex=False)\n",
    "fig.suptitle('Rocket State Estimator Results')\n",
    "axs[0].plot(t, xhat[:, 0], label='w1')\n",
    "axs[0].plot(t, xhat[:, 1], label='w2')\n",
    "axs[0].plot(t, xhat[:, 2], label='w3')\n",
    "axs[0].axvline(dynamics.t_motor_burnout, color='r', linestyle='--', label='Motor Burnout')\n",
    "axs[0].set_ylabel('Angular Velocities (rad/s)')\n",
    "axs[0].legend(loc='upper right')\n",
    "axs[0].grid()\n",
    "axs[1].plot(t, xhat[:, 3], label='v1')\n",
    "axs[1].plot(t, xhat[:, 4], label='v2')\n",
    "axs[1].plot(t, xhat[:, 5], label='v3')\n",
    "axs[1].axvline(dynamics.t_motor_burnout, color='r', linestyle='--', label='Motor Burnout')\n",
    "axs[1].set_ylabel('Linear Velocities (m/s)')\n",
    "axs[1].legend(loc='upper right')\n",
    "axs[1].grid()\n",
    "\n",
    "# Convert quaternion to Euler angles for plotting\n",
    "euler_angles = np.array([dynamics.quat_to_euler_xyz(q) for q in xhat[:, 6:10]])\n",
    "axs[2].plot(t, np.rad2deg(euler_angles[:, 0]), label='Pitch (θ)')\n",
    "axs[2].plot(t, np.rad2deg(euler_angles[:, 1]), label='Yaw (φ)')\n",
    "axs[2].plot(t, np.rad2deg(euler_angles[:, 2]), label='Roll (ψ)')\n",
    "axs[2].axvline(dynamics.t_motor_burnout, color='r', linestyle='--', label='Motor Burnout')\n",
    "axs[2].set_ylabel('Euler Angles (°)')\n",
    "axs[2].set_xlabel('Time (s)')\n",
    "axs[2].legend(loc='upper right')\n",
    "axs[2].grid()\n",
    "plt.tight_layout()"
   ]
  }
 ],
 "metadata": {
  "kernelspec": {
   "display_name": "ae370",
   "language": "python",
   "name": "python3"
  },
  "language_info": {
   "codemirror_mode": {
    "name": "ipython",
    "version": 3
   },
   "file_extension": ".py",
   "mimetype": "text/x-python",
   "name": "python",
   "nbconvert_exporter": "python",
   "pygments_lexer": "ipython3",
   "version": "3.13.5"
  }
 },
 "nbformat": 4,
 "nbformat_minor": 5
}

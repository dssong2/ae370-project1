{
 "cells": [
  {
   "cell_type": "code",
   "execution_count": 1,
   "id": "ba5e1571",
   "metadata": {},
   "outputs": [],
   "source": [
    "import numpy as np\n",
    "from sympy import *\n",
    "import matplotlib.pyplot as plt\n",
    "\n",
    "import sys\n",
    "from pathlib import Path\n",
    "\n",
    "repo_parent = Path.cwd().resolve().parents[0]\n",
    "if str(repo_parent) not in sys.path:\n",
    "    sys.path.insert(0, str(repo_parent))\n",
    "\n",
    "# 3) Autoreload to pick up edits to Maurice2/*\n",
    "%load_ext autoreload\n",
    "%autoreload 2\n",
    "\n",
    "from main.dynamics import Dynamics"
   ]
  },
  {
   "cell_type": "code",
   "execution_count": 2,
   "id": "43ac9fc5",
   "metadata": {},
   "outputs": [],
   "source": [
    "xhat0 = np.array([0, 0, 0, 0, 0, 0, 1, 0, 0, 0]) # Initial state estimate\n",
    "sampling_rate = 50.0  # Hz\n",
    "dt = 1.0 / sampling_rate\n",
    "\n",
    "dynamics = Dynamics(dt=dt, x0=xhat0)"
   ]
  }
 ],
 "metadata": {
  "kernelspec": {
   "display_name": "ae370",
   "language": "python",
   "name": "python3"
  },
  "language_info": {
   "codemirror_mode": {
    "name": "ipython",
    "version": 3
   },
   "file_extension": ".py",
   "mimetype": "text/x-python",
   "name": "python",
   "nbconvert_exporter": "python",
   "pygments_lexer": "ipython3",
   "version": "3.13.5"
  }
 },
 "nbformat": 4,
 "nbformat_minor": 5
}

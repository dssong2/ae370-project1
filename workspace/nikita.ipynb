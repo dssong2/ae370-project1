{
 "cells": [
  {
   "cell_type": "code",
   "execution_count": 1,
   "id": "ba5e1571",
   "metadata": {},
   "outputs": [],
   "source": [
    "import numpy as np\n",
    "from sympy import *\n",
    "import matplotlib.pyplot as plt\n",
    "\n",
    "import sys\n",
    "from pathlib import Path\n",
    "\n",
    "# 1) Ensure the repo parent is on sys.path (..../<parent>/Maurice2)\n",
    "repo_parent = Path.cwd().resolve().parents[0]\n",
    "if str(repo_parent) not in sys.path:\n",
    "    sys.path.insert(0, str(repo_parent))\n",
    "\n",
    "# 2) (Optional) If you want to override the data dir at runtime, set this:\n",
    "# os.environ[\"MAURICE2_DATA_DIR\"] = str(Path(repo_parent, \"Maurice2\", \"data\"))\n",
    "\n",
    "# 3) Autoreload to pick up edits to Maurice2/*\n",
    "%load_ext autoreload\n",
    "%autoreload 2\n",
    "\n",
    "from dynamics import Dynamics"
   ]
  },
  {
   "cell_type": "code",
   "execution_count": null,
   "id": "43ac9fc5",
   "metadata": {},
   "outputs": [],
   "source": []
  }
 ],
 "metadata": {
  "kernelspec": {
   "display_name": "ae370",
   "language": "python",
   "name": "python3"
  },
  "language_info": {
   "codemirror_mode": {
    "name": "ipython",
    "version": 3
   },
   "file_extension": ".py",
   "mimetype": "text/x-python",
   "name": "python",
   "nbconvert_exporter": "python",
   "pygments_lexer": "ipython3",
   "version": "3.13.5"
  }
 },
 "nbformat": 4,
 "nbformat_minor": 5
}
